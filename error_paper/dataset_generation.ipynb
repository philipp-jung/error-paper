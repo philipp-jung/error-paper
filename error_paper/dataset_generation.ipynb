{
 "cells": [
  {
   "cell_type": "markdown",
   "id": "8cbee6df-af4e-4994-93ef-d5e478a3e8c6",
   "metadata": {},
   "source": [
    "# Dataset Generation\n",
    "Generate erroneous datasets."
   ]
  },
  {
   "cell_type": "code",
   "execution_count": 1,
   "id": "e19a7f1b-b038-46aa-81cb-e00d2c80728b",
   "metadata": {},
   "outputs": [],
   "source": [
    "import pandas as pd\n",
    "import error_generation"
   ]
  },
  {
   "cell_type": "code",
   "execution_count": 2,
   "id": "34a09f38-fc1d-444b-a58a-8149bebbed88",
   "metadata": {},
   "outputs": [],
   "source": [
    "from error_generation.api import mid_level\n",
    "from error_generation.utils import ErrorModel, ErrorTypeConfig, MidLevelConfig\n",
    "from error_generation.error_mechanism import EAR, ENAR, ECAR\n",
    "from error_generation.utils import ErrorTypeConfig\n",
    "from error_generation import error_type"
   ]
  },
  {
   "cell_type": "code",
   "execution_count": 3,
   "id": "b4aba3b5-592c-45e6-b411-53a1d9fe76bb",
   "metadata": {},
   "outputs": [],
   "source": [
    "def read_csv_dataset(dataset_path):\n",
    "    \"\"\"\n",
    "    This method reads a dataset from a csv file path.\n",
    "    \"\"\"\n",
    "    dataframe = pd.read_csv(dataset_path, sep=\",\", header=\"infer\", encoding=\"utf-8\", dtype=str,\n",
    "                                keep_default_na=False, low_memory=False)\n",
    "    return dataframe"
   ]
  },
  {
   "cell_type": "markdown",
   "id": "aa9d0d65-77d0-496c-8a24-0a97ae945dbb",
   "metadata": {},
   "source": [
    "## beers"
   ]
  },
  {
   "cell_type": "markdown",
   "id": "f6818d66-ed40-472d-9a04-c0207e0b80ff",
   "metadata": {},
   "source": [
    "Ich modelliere `beers` nahe am Original."
   ]
  },
  {
   "cell_type": "code",
   "execution_count": 4,
   "id": "4ec6da9b-dc46-4c7b-93ec-38dd1c8b7c5d",
   "metadata": {},
   "outputs": [],
   "source": [
    "df_clean = read_csv_dataset('../data/beers/clean.csv')\n",
    "df_dirty = read_csv_dataset('../data/beers/dirty.csv')"
   ]
  },
  {
   "cell_type": "code",
   "execution_count": 5,
   "id": "694a49c0-232d-42a5-8d48-58c13aee4032",
   "metadata": {},
   "outputs": [
    {
     "name": "stdout",
     "output_type": "stream",
     "text": [
      "<class 'pandas.core.frame.DataFrame'>\n",
      "RangeIndex: 2410 entries, 0 to 2409\n",
      "Data columns (total 11 columns):\n",
      " #   Column        Non-Null Count  Dtype \n",
      "---  ------        --------------  ----- \n",
      " 0   index         2410 non-null   object\n",
      " 1   id            2410 non-null   object\n",
      " 2   beer-name     2410 non-null   object\n",
      " 3   style         2410 non-null   object\n",
      " 4   ounces        2410 non-null   object\n",
      " 5   abv           2410 non-null   object\n",
      " 6   ibu           2410 non-null   object\n",
      " 7   brewery_id    2410 non-null   object\n",
      " 8   brewery-name  2410 non-null   object\n",
      " 9   city          2410 non-null   object\n",
      " 10  state         2410 non-null   object\n",
      "dtypes: object(11)\n",
      "memory usage: 207.2+ KB\n"
     ]
    }
   ],
   "source": [
    "df_dirty.info()"
   ]
  },
  {
   "cell_type": "code",
   "execution_count": 6,
   "id": "c6b0d631-fc21-43a5-8655-d4ae4d980867",
   "metadata": {},
   "outputs": [],
   "source": [
    "df_clean['index'] = df_clean['index'].astype('int')\n",
    "df_clean['id'] = df_clean['id'].astype('int')\n",
    "df_clean['beer-name'] = df_clean['beer-name'].astype('str')\n",
    "df_clean['style'] = df_clean['style'].astype('str')\n",
    "df_clean['ounces'] = df_clean['ounces'].astype('str')\n",
    "df_clean['abv'] = df_clean['abv'].replace('', None).astype('float')\n",
    "df_clean['brewery_id'] = df_clean['brewery_id'].astype('int')\n",
    "df_clean['brewery-name'] = df_clean['brewery-name'].astype('str')\n",
    "df_clean['state'] = df_clean['state'].astype('str')"
   ]
  },
  {
   "cell_type": "code",
   "execution_count": 7,
   "id": "52c04128-bf30-4dad-af33-ebf96e187321",
   "metadata": {},
   "outputs": [
    {
     "data": {
      "text/plain": [
       "0       0.050\n",
       "1       0.066\n",
       "2       0.071\n",
       "3       0.090\n",
       "4       0.075\n",
       "        ...  \n",
       "2405    0.067\n",
       "2406    0.052\n",
       "2407    0.055\n",
       "2408    0.055\n",
       "2409    0.052\n",
       "Name: abv, Length: 2410, dtype: float64"
      ]
     },
     "execution_count": 7,
     "metadata": {},
     "output_type": "execute_result"
    }
   ],
   "source": [
    "df_clean['abv']"
   ]
  },
  {
   "cell_type": "code",
   "execution_count": 8,
   "id": "95e25f6a-aa1c-4a5d-a1d2-d79945ff316f",
   "metadata": {},
   "outputs": [
    {
     "data": {
      "text/plain": [
       "0         0.05\n",
       "1        0.066\n",
       "2        0.071\n",
       "3        0.09%\n",
       "4        0.075\n",
       "         ...  \n",
       "2405     0.067\n",
       "2406     0.052\n",
       "2407    0.055%\n",
       "2408    0.055%\n",
       "2409     0.052\n",
       "Name: abv, Length: 2410, dtype: object"
      ]
     },
     "execution_count": 8,
     "metadata": {},
     "output_type": "execute_result"
    }
   ],
   "source": [
    "df_dirty['abv']"
   ]
  },
  {
   "cell_type": "code",
   "execution_count": 9,
   "id": "f2fbe3c1-6393-40e1-83ea-573f1458816d",
   "metadata": {},
   "outputs": [],
   "source": [
    "config = MidLevelConfig(\n",
    "    {\n",
    "        \"ounces\": [\n",
    "            ErrorModel(ECAR(), error_type.Extraneous({'extraneous_value_template': \"{value}.0 oz\"}), 0.25),\n",
    "            ErrorModel(ECAR(), error_type.Extraneous({'extraneous_value_template': \"{value}.0 oz.\"}), 0.38),\n",
    "            ErrorModel(ECAR(), error_type.Extraneous({'extraneous_value_template': \"{value}.0 ounce\"}), 0.23),\n",
    "            ErrorModel(ECAR(), error_type.Extraneous({'extraneous_value_template': \"{value}.0 oz. Alumi-Tek\"}), 0.05),\n",
    "            ErrorModel(ECAR(), error_type.Extraneous({'extraneous_value_template': \"{value}.0 OZ\"}), 0.062),\n",
    "            ErrorModel(ECAR(), error_type.Extraneous({'extraneous_value_template': \"{value}.0 oz. Silo Can\"}), 0.0046),\n",
    "            ErrorModel(ECAR(), error_type.Extraneous({'extraneous_value_template': \"{value} oz.\"}), 0.0025),\n",
    "            ErrorModel(ECAR(), error_type.Extraneous({'extraneous_value_template': \"{value} ounce\"}), 0.0025),\n",
    "            ErrorModel(ECAR(), error_type.Extraneous({'extraneous_value_template': \"{value} oz\"}), 0.017),\n",
    "            ],\n",
    "        \"abv\": [            \n",
    "            ErrorModel(ECAR(), error_type.AddDelta({'add_delta_value': 0.0001}), 0.059),\n",
    "            ErrorModel(ECAR(), error_type.Extraneous({'extraneous_value_template': \"{value}%\"}), 0.229),\n",
    "        ],\n",
    "        \"ibu\": [ErrorModel(ECAR(), error_type.MissingValue({'na_value': \"N/A\"}), 0.417)],\n",
    "        \"city\": [ErrorModel(EAR(condition_to_column=\"state\"), error_type.Extraneous({'extraneous_value_template': \"{value} AZ\"}), 0.053)],\n",
    "        \"state\": [ErrorModel(EAR(condition_to_column=\"state\"), error_type.MissingValue(), 0.053)],\n",
    "    }\n",
    ")"
   ]
  },
  {
   "cell_type": "code",
   "execution_count": 10,
   "id": "fe7d45ba-1355-4add-b962-cc9646583ae5",
   "metadata": {},
   "outputs": [],
   "source": [
    "df_corrupted, error_mask = mid_level.create_errors(df_clean, config)"
   ]
  },
  {
   "cell_type": "markdown",
   "id": "5c8ec5be-5c34-4063-96d8-bdb2a571d9df",
   "metadata": {},
   "source": [
    "Cast types to help pyarrorw write parquet files correctly."
   ]
  },
  {
   "cell_type": "code",
   "execution_count": 11,
   "id": "2b616c58-526d-4c32-b8ea-f626e06ace8b",
   "metadata": {},
   "outputs": [],
   "source": [
    "df_corrupted['index'] = df_corrupted['index'].astype('int')\n",
    "df_corrupted['id'] = df_corrupted['id'].astype('int')\n",
    "df_corrupted['beer-name'] = df_corrupted['beer-name'].astype('str')\n",
    "df_corrupted['style'] = df_corrupted['style'].astype('str')\n",
    "df_corrupted['ounces'] = df_corrupted['ounces'].astype('str')\n",
    "df_corrupted['abv'] = df_corrupted['abv'].astype('str')\n",
    "df_corrupted['brewery_id'] = df_corrupted['brewery_id'].astype('int')\n",
    "df_corrupted['brewery-name'] = df_corrupted['brewery-name'].astype('str')\n",
    "df_corrupted['state'] = df_corrupted['state'].astype('str')"
   ]
  },
  {
   "cell_type": "code",
   "execution_count": 12,
   "id": "17e78d5a-ab62-46c5-bc46-84b242d643da",
   "metadata": {},
   "outputs": [
    {
     "name": "stdout",
     "output_type": "stream",
     "text": [
      "<class 'pandas.core.frame.DataFrame'>\n",
      "RangeIndex: 2410 entries, 0 to 2409\n",
      "Data columns (total 11 columns):\n",
      " #   Column        Non-Null Count  Dtype \n",
      "---  ------        --------------  ----- \n",
      " 0   index         2410 non-null   int64 \n",
      " 1   id            2410 non-null   int64 \n",
      " 2   beer-name     2410 non-null   object\n",
      " 3   style         2410 non-null   object\n",
      " 4   ounces        2410 non-null   object\n",
      " 5   abv           2410 non-null   object\n",
      " 6   ibu           2410 non-null   object\n",
      " 7   brewery_id    2410 non-null   int64 \n",
      " 8   brewery-name  2410 non-null   object\n",
      " 9   city          2410 non-null   object\n",
      " 10  state         2410 non-null   object\n",
      "dtypes: int64(3), object(8)\n",
      "memory usage: 207.2+ KB\n"
     ]
    }
   ],
   "source": [
    "df_corrupted.info()"
   ]
  },
  {
   "cell_type": "code",
   "execution_count": 16,
   "id": "5bdd782a-bcd4-43ac-92ec-c89783562b1d",
   "metadata": {},
   "outputs": [],
   "source": [
    "#df_corrupted.to_parquet('../export_data/beers/beers_dirty_authentic.parquet', index=False)\n",
    "df_corrupted.to_csv('../export_data/beers/beers_dirty_authentic.csv', index=False)\n",
    "#df_clean.to_parquet('../export_data/beers/beers_clean.parquet', index=False)\n",
    "df_clean.to_csv('../export_data/beers/beers_clean.csv', index=False)"
   ]
  },
  {
   "cell_type": "code",
   "execution_count": null,
   "id": "ccbcbac6-4137-446e-a7e5-b1ef273d65d9",
   "metadata": {},
   "outputs": [],
   "source": []
  }
 ],
 "metadata": {
  "kernelspec": {
   "display_name": "Python 3 (ipykernel)",
   "language": "python",
   "name": "python3"
  },
  "language_info": {
   "codemirror_mode": {
    "name": "ipython",
    "version": 3
   },
   "file_extension": ".py",
   "mimetype": "text/x-python",
   "name": "python",
   "nbconvert_exporter": "python",
   "pygments_lexer": "ipython3",
   "version": "3.10.12"
  }
 },
 "nbformat": 4,
 "nbformat_minor": 5
}
